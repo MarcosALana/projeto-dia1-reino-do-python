{
  "nbformat": 4,
  "nbformat_minor": 0,
  "metadata": {
    "colab": {
      "provenance": []
    },
    "kernelspec": {
      "name": "python3",
      "display_name": "Python 3"
    },
    "language_info": {
      "name": "python"
    }
  },
  "cells": [
    {
      "cell_type": "code",
      "execution_count": 38,
      "metadata": {
        "colab": {
          "base_uri": "https://localhost:8080/"
        },
        "id": "JUit6rhiNyhI",
        "outputId": "47108032-7cb8-4d9f-b33b-0ae70713ab12"
      },
      "outputs": [
        {
          "output_type": "stream",
          "name": "stdout",
          "text": [
            "🚀 Bem-Vido ao Reino de Python, Marcos!\n",
            "🚀 Hoje você começa sua jornada como Mestre de IA 😄🔥\n",
            "\n",
            "📋 Lista de Alunos :\n",
            "1 Ana 🚀\n",
            "2 Pedro 🎨\n",
            "3 João ⚽\n",
            "4 Maria 📚\n",
            "5 Daniel 💻\n",
            "6 Carlos 🎸\n",
            "\n",
            "Total de Alunos: 6 👥\n",
            "🏆 Ranking de Presença :\n",
            "🥇 Pedro ⚽ - 10 presenças\n",
            "🥈 Maria 💻 - 9 presenças\n",
            "🥉 Ana 🎨 - 8 presenças\n",
            "🎖 João 📚 - 6 presenças\n",
            "🎖 Daniel 🎸 - 4 presenças\n",
            "🎖 Carlos ⚽ - 3 presenças\n"
          ]
        }
      ],
      "source": [
        "# 🚀 Bem-vindo ao Reino do Python\n",
        "# Marcos, este é o seu primeiro projeto no portfólio!🚀\n",
        "\n",
        "alunos = [\n",
        "    \"Ana 🚀\",\n",
        "    \"Pedro 🎨\",\n",
        "    \"João ⚽\",\n",
        "    \"Maria 📚\",\n",
        "    \"Daniel 💻\",\n",
        "    \"Carlos 🎸\"\n",
        "]\n",
        "\n",
        "print(\"🚀 Bem-Vido ao Reino de Python, Marcos!\")\n",
        "print(\"🚀 Hoje você começa sua jornada como Mestre de IA 😄🔥\")\n",
        "\n",
        "print(\"\\n📋 Lista de Alunos :\")\n",
        "\n",
        "for i,nome in enumerate(alunos,start=1):\n",
        "  print(f\"{i} {nome}\")\n",
        "\n",
        "print(f\"\\nTotal de Alunos: {len(alunos)} 👥\")\n",
        "\n",
        "presencas = {\n",
        "    \"Ana 🎨\": 8,\n",
        "    \"Pedro ⚽\": 10,\n",
        "    \"João 📚\": 6,\n",
        "    \"Maria 💻\": 9,\n",
        "    \"Daniel 🎸\": 4,\n",
        "    \"Carlos ⚽\":3\n",
        "}\n",
        "\n",
        "ranking = sorted(presencas.items(),key=lambda x: x[1], reverse=True)\n",
        "\n",
        "print(\"🏆 Ranking de Presença :\")\n",
        "medalhas = [\"🥇\", \"🥈\", \"🥉\"]\n",
        "for i, (nome,pontos) in enumerate(ranking, start=1):\n",
        "    medalha = medalhas[i-1] if i <= 3 else \"🎖\"\n",
        "    print(f\"{medalha} {nome} - {pontos} presenças\")"
      ]
    }
  ]
}